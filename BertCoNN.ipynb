{
 "cells": [
  {
   "cell_type": "code",
   "execution_count": 8,
   "metadata": {},
   "outputs": [
    {
     "name": "stdout",
     "output_type": "stream",
     "text": [
      "Exactly what I needed.\n"
     ]
    }
   ],
   "source": [
    "data_file = \"./data/AMAZON_FASHION.json\"\n",
    "save_folder = \"./data/fashion\"\n",
    "f = open(data_file, \"r\", encoding = \"utf-8\")\n",
    "a = f.readline()\n",
    "f.close()\n",
    "a = json.loads(a)\n",
    "print(a['reviewText'])"
   ]
  },
  {
   "cell_type": "code",
   "execution_count": 44,
   "metadata": {},
   "outputs": [],
   "source": [
    "import os\n",
    "import csv\n",
    "import json\n",
    "import pandas as pd\n",
    "from sklearn.model_selection import train_test_split"
   ]
  },
  {
   "cell_type": "code",
   "execution_count": 55,
   "metadata": {},
   "outputs": [],
   "source": [
    "data_fields = {\n",
    "    'userID': 'reviewerID', \n",
    "    'itemID': 'asin', \n",
    "    'review': 'reviewText', \n",
    "    'rating': 'overall'\n",
    "}\n",
    "def build_data_profile(data_file, save_folder, data_fields):\n",
    "    if not os.path.exists(save_folder):\n",
    "        os.makedirs(save_folder)\n",
    "        os.makedirs(save_folder + \"/userID\")\n",
    "        os.makedirs(save_folder + \"/itemID\")\n",
    "        print(\"Data folder create\")\n",
    "    else:\n",
    "        print(\"Folder already exists.\")\n",
    "    f = open(data_file, \"r\", encoding=\"utf-8\")\n",
    "    while True:\n",
    "        js = f.readline()\n",
    "        if not js:\n",
    "            break\n",
    "        js = json.loads(js)\n",
    "\n",
    "        userID = js[data_fields['userID']]\n",
    "        itemID = js[data_fields['itemID']]\n",
    "\n",
    "        user_review_file = os.path.join(save_folder, \"userID\", userID + \".txt\")\n",
    "        item_review_file = os.path.join(save_folder, \"itemID\", itemID + \".txt\")\n",
    "        if data_fields['review'] in js:\n",
    "            review = js[data_fields['review']]\n",
    "            review = ' '.join(review.split())\n",
    "            with open(user_review_file, \"a+\", encoding = \"utf-8\") as fu:\n",
    "                fu.write(review + \"\\n\")\n",
    "            with open(item_review_file, \"a+\", encoding = \"utf-8\") as fi:\n",
    "                fi.write(review + \"\\n\")\n",
    "    f.close()\n",
    "    \n",
    "def build_rating_profile(data_file, save_folder, data_fields):\n",
    "    if not os.path.exists(save_folder):\n",
    "        os.makedirs(save_folder)\n",
    "        print(\"Data folder create\")\n",
    "    else:\n",
    "        print(\"Folder already exists.\")\n",
    "    f = open(data_file, \"r\", encoding=\"utf-8\")\n",
    "    rating_file = os.path.join(save_folder, \"rating_full.csv\")\n",
    "    with open(rating_file, 'a+',encoding = \"utf-8\", newline='') as file:\n",
    "        writer = csv.writer(file)\n",
    "        writer.writerow(['user', 'num_user_review', 'item', 'num_item_review', 'rating'])\n",
    "    while True:\n",
    "        js = f.readline()\n",
    "        if not js:\n",
    "            break\n",
    "        js = json.loads(js)\n",
    "\n",
    "        userID = js[data_fields['userID']]\n",
    "        itemID = js[data_fields['itemID']]\n",
    "        rating = js[data_fields['rating']]\n",
    "        user_review_file = os.path.join(save_folder, \"userID\", userID + \".txt\")\n",
    "        item_review_file = os.path.join(save_folder, \"itemID\", itemID + \".txt\")\n",
    "\n",
    "        if os.path.isfile(user_review_file):\n",
    "            with open(user_review_file, \"r\", encoding=\"utf-8\") as fu:\n",
    "                num_user_review = len(fu.readlines())\n",
    "        else:\n",
    "            num_user_review = 0\n",
    "        if os.path.isfile(item_review_file):\n",
    "            with open(item_review_file, \"r\", encoding=\"utf-8\") as fi:\n",
    "                num_item_review = len(fi.readlines())\n",
    "        else:\n",
    "            num_item_review = 0\n",
    "        with open(rating_file, 'a+', encoding = \"utf-8\", newline='') as file:\n",
    "            writer = csv.writer(file)\n",
    "            writer.writerow([userID, num_user_review, itemID, num_item_review, rating])\n",
    "    f.close()\n",
    "\n",
    "def build_rating_5core(rating_file, save_folder):\n",
    "    rating_file_5core = os.path.join(save_folder, \"rating_5core.csv\")\n",
    "    df = pd.read_csv(rating_file)\n",
    "    df_5core = df.loc[(df['num_user_review'] >= 5) & (df['num_item_review'] >= 5)]\n",
    "    df_5core.to_csv(rating_file_5core)\n",
    "\n",
    "def train_test_val_split(rating_file):\n",
    "    df = pd.read_csv(rating_file)\n",
    "    train, valid = train_test_split(df, test_size=0.2, random_state=3)  # split dataset including random\n",
    "    valid, test = train_test_split(valid, test_size=0.5, random_state=4)\n",
    "    train.to_csv(rating_file[:-4] + '_train.csv')\n",
    "    valid.to_csv(rating_file[:-4] + '_valid.csv')\n",
    "    test.to_csv(rating_file[:-4] + '_test.csv')"
   ]
  },
  {
   "cell_type": "code",
   "execution_count": 34,
   "metadata": {},
   "outputs": [
    {
     "name": "stdout",
     "output_type": "stream",
     "text": [
      "Data folder create\n",
      "Folder already exists.\n"
     ]
    }
   ],
   "source": [
    "data_file = \"./data/AMAZON_FASHION.json\"\n",
    "save_folder = \"./data/fashion\"\n",
    "data_fields = data_fields\n",
    "build_data_profile(data_file, save_folder, data_fields)\n",
    "build_rating_profile(data_file, save_folder, data_fields)"
   ]
  },
  {
   "cell_type": "code",
   "execution_count": 41,
   "metadata": {},
   "outputs": [],
   "source": [
    "rating_file = \"./data/fashion/rating_full.csv\"\n",
    "save_folder = \"./data/fashion\"\n",
    "build_rating_5core(rating_file, save_folder)"
   ]
  },
  {
   "cell_type": "code",
   "execution_count": 56,
   "metadata": {},
   "outputs": [],
   "source": [
    "rating_file = \"./data/fashion/rating_5core.csv\"\n",
    "train_test_val_split(rating_file)"
   ]
  },
  {
   "cell_type": "code",
   "execution_count": 43,
   "metadata": {},
   "outputs": [
    {
     "data": {
      "text/plain": [
       "(17950, 6)"
      ]
     },
     "execution_count": 43,
     "metadata": {},
     "output_type": "execute_result"
    }
   ],
   "source": [
    "rating_file_5core = \"./data/fashion/rating_5core.csv\"\n",
    "df = pd.read_csv(rating_file_5core)\n",
    "df.shape"
   ]
  }
 ],
 "metadata": {
  "kernelspec": {
   "display_name": "recom",
   "language": "python",
   "name": "python3"
  },
  "language_info": {
   "codemirror_mode": {
    "name": "ipython",
    "version": 3
   },
   "file_extension": ".py",
   "mimetype": "text/x-python",
   "name": "python",
   "nbconvert_exporter": "python",
   "pygments_lexer": "ipython3",
   "version": "3.10.11"
  },
  "orig_nbformat": 4
 },
 "nbformat": 4,
 "nbformat_minor": 2
}
