{
 "cells": [
  {
   "cell_type": "code",
   "execution_count": 8,
   "metadata": {},
   "outputs": [
    {
     "name": "stdout",
     "output_type": "stream",
     "text": [
      "Exactly what I needed.\n"
     ]
    }
   ],
   "source": [
    "data_file = \"./data/AMAZON_FASHION.json\"\n",
    "save_folder = \"./data/fashion\"\n",
    "f = open(data_file, \"r\", encoding = \"utf-8\")\n",
    "a = f.readline()\n",
    "f.close()\n",
    "a = json.loads(a)\n",
    "print(a['reviewText'])"
   ]
  },
  {
   "cell_type": "code",
   "execution_count": 2,
   "metadata": {},
   "outputs": [],
   "source": [
    "import os\n",
    "import csv\n",
    "import json\n",
    "import pandas as pd\n",
    "from sklearn.model_selection import train_test_split\n",
    "from torch.utils.data import DataLoader\n",
    "import torch\n",
    "from transformers import AutoTokenizer, AutoModel\n",
    "from sentence_transformers import SentenceTransformer"
   ]
  },
  {
   "cell_type": "code",
   "execution_count": 2,
   "metadata": {},
   "outputs": [],
   "source": [
    "from BertCoNN.utils import DeepCoNNDataset, predict_mse, date"
   ]
  },
  {
   "cell_type": "code",
   "execution_count": 6,
   "metadata": {},
   "outputs": [],
   "source": [
    "train_dataset = DeepCoNNDataset(\"./data/fashion/rating_5core_train.csv\")\n",
    "train_dlr = DataLoader(train_dataset, batch_size=10, shuffle=True)"
   ]
  },
  {
   "cell_type": "code",
   "execution_count": 7,
   "metadata": {},
   "outputs": [
    {
     "name": "stdout",
     "output_type": "stream",
     "text": [
      "('A4GR8SDFRBSDV', 'A37Y0PJNGMVNJK', 'AV2MXVWMTERBK', 'A3L65LU0YQNQ36', 'A1LZXPCNQZ7BCF', 'A1PZDJFFV6O0MS', 'A21ZV3Q9IPI0VL', 'A32GWIG35XVBT5', 'A2FOBKHRMBPC8E', 'A3W5A9X3HHACQT')\n"
     ]
    }
   ],
   "source": [
    "for batch in train_dlr:\n",
    "    users, items, ratings = batch\n",
    "    print(users)\n",
    "    break"
   ]
  },
  {
   "cell_type": "code",
   "execution_count": null,
   "metadata": {},
   "outputs": [],
   "source": [
    "os.environ['TRANSFORMERS_CACHE'] = '/home/yenncs/cache/'\n",
    "model_name = 'bert-base-uncased'\n",
    "tokenizer = AutoTokenizer.from_pretrained(model_name)\n",
    "model = AutoModel.from_pretrained(model_name)"
   ]
  },
  {
   "cell_type": "code",
   "execution_count": 13,
   "metadata": {},
   "outputs": [],
   "source": [
    "sentences = [\n",
    "    'This is the first sentence.',\n",
    "    'This is the second sentence.',\n",
    "    'This is the third sentence.',\n",
    "    'This is the fourth sentence.',\n",
    "    'This is the fifth sentence.',\n",
    "    'This is the sixth sentence.',\n",
    "    'This is the seventh sentence.',\n",
    "    'This is the eighth sentence.',\n",
    "    'This is the ninth sentence.',\n",
    "    'This is the tenth sentence.'\n",
    "]\n",
    "encoded_inputs = tokenizer.batch_encode_plus(sentences, padding=True, return_tensors='pt')\n",
    "with torch.no_grad():\n",
    "    model_outputs = model(**encoded_inputs)\n",
    "    last_hidden_states = model_outputs.last_hidden_state\n",
    "sentence_embeddings = torch.mean(last_hidden_states, dim=1).squeeze()\n"
   ]
  },
  {
   "cell_type": "code",
   "execution_count": null,
   "metadata": {},
   "outputs": [],
   "source": [
    "sen_model = SentenceTransformer('bert-large-nli-mean-tokens')"
   ]
  },
  {
   "cell_type": "code",
   "execution_count": 10,
   "metadata": {},
   "outputs": [
    {
     "name": "stdout",
     "output_type": "stream",
     "text": [
      "Max Sequence Length: 128\n"
     ]
    }
   ],
   "source": [
    "print(\"Max Sequence Length:\", sen_model.max_seq_length)"
   ]
  },
  {
   "cell_type": "code",
   "execution_count": 13,
   "metadata": {},
   "outputs": [
    {
     "name": "stdout",
     "output_type": "stream",
     "text": [
      "Max Sequence Length: 2000\n"
     ]
    }
   ],
   "source": [
    "sen_model.max_seq_length = 2000\n",
    "print(\"Max Sequence Length:\", sen_model.max_seq_length)"
   ]
  },
  {
   "cell_type": "code",
   "execution_count": 16,
   "metadata": {},
   "outputs": [],
   "source": [
    "sentences = ['This is an example sentence.', 'Each sentence is converted to a fixed-length vector.']\n",
    "embeddings = sen_model.encode(sentences)"
   ]
  },
  {
   "cell_type": "code",
   "execution_count": 17,
   "metadata": {},
   "outputs": [
    {
     "data": {
      "text/plain": [
       "(2, 1024)"
      ]
     },
     "execution_count": 17,
     "metadata": {},
     "output_type": "execute_result"
    }
   ],
   "source": [
    "embeddings.shape"
   ]
  },
  {
   "cell_type": "code",
   "execution_count": 20,
   "metadata": {},
   "outputs": [],
   "source": [
    "from transformers import AutoTokenizer, AutoModel\n",
    "import torch\n",
    "\n",
    "#Mean Pooling - Take attention mask into account for correct averaging\n",
    "def mean_pooling(model_output, attention_mask):\n",
    "    token_embeddings = model_output[0] #First element of model_output contains all token embeddings\n",
    "    input_mask_expanded = attention_mask.unsqueeze(-1).expand(token_embeddings.size()).float()\n",
    "    return torch.sum(token_embeddings * input_mask_expanded, 1) / torch.clamp(input_mask_expanded.sum(1), min=1e-9)\n",
    "\n",
    "# Load model from HuggingFace Hub\n",
    "tokenizer = AutoTokenizer.from_pretrained('sentence-transformers/bert-large-nli-mean-tokens')\n",
    "model = AutoModel.from_pretrained('sentence-transformers/bert-large-nli-mean-tokens')"
   ]
  },
  {
   "cell_type": "code",
   "execution_count": 43,
   "metadata": {},
   "outputs": [],
   "source": [
    "sentences = ['''Vietnam[b] (Vietnamese: Việt Nam, [vîət nāːm] (listen), commonly abbreviated VN), officially the Socialist Republic of Vietnam (SRV),[c] is a country in Southeast Asia. It is located at the eastern edge of mainland Southeast Asia, with an area of 331,212 square kilometres (127,882 sq mi) and population of 99 million, making it the world's fifteenth-most populous country. Vietnam share land borders with China to the north, and Laos and Cambodia to the west. It shares maritime borders with Thailand through the Gulf of Thailand, and the Philippines, Indonesia, and Malaysia through the South China Sea. Its capital is Hanoi and its largest city is Ho Chi Minh City (commonly referred to by its former name, Saigon).\n",
    "\n",
    "Vietnam was inhabited by the Paleolithic age, with states established in the first millennium BC on the Red River Delta in modern-day northern Vietnam. The Han dynasty annexed Northern and Central Vietnam under Chinese rule from 111 BC, until the first dynasty emerged in 939. Successive monarchical dynasties absorbed Chinese influences through Confucianism and Buddhism, and expanded southward to the Mekong Delta, conquering Champa. The Nguyễn—the last imperial dynasty—surrendered to France in 1883. Following the August Revolution, the nationalist coalition Viet Minh under the leadership of communist revolutionary Ho Chi Minh proclaimed independence of Vietnam in 1945.\n",
    "\n",
    "Vietnam went through prolonged warfare in the 20th century. After World War II, France returned to reclaim colonial power in the First Indochina War, from which Vietnam emerged victorious in 1954. As a result of the treaties signed between the Viet Minh and France, Vietnam was also separated into two parts. The Vietnam War began shortly after, between the communist North, supported by the Soviet Union and China, and the anti-communist South, supported by the United States. Upon the North Vietnamese victory in 1975, Vietnam reunified as a unitary socialist state under the Communist Party of Vietnam (CPV) in 1976. An ineffective planned economy, a trade embargo by the West, and wars with Cambodia and China crippled the country further. In 1986, the CPV initiated economic and political reforms similar to the Chinese economic reform, transforming the country to a market-oriented economy. The reforms facilitated Vietnamese reintegration into the global economy and politics.\n",
    "\n",
    "A developing country with a lower-middle-income economy, Vietnam is nonetheless one of the fastest-growing economies of the 21st century, with a GDP predicted to rival developed nations by 2050. Vietnam has high levels of corruption and censorship and a poor human rights record; the country ranks among the lowest in international measurements of civil liberties, freedom of the press, and freedom of religion and ethnic minorities. It is part of international and intergovernmental institutions including the ASEAN, the APEC, the CPTPP, the Non-Aligned Movement, the OIF, and the WTO. It has assumed a seat on the United Nations Security Council twice.\n",
    "\n",
    "Etymology\n",
    "Main article: Names of Vietnam\n",
    "The name Việt Nam (Vietnamese pronunciation: [viə̀t naːm], chữ Hán: 越南), literally “Viet South”, means “Viet of the South” per Vietnamese word order or “South of the Viet” per Classical Chinese word order.[9] A variation of the name, Nanyue (or Nam Việt, 南越), was first documented in the 2nd century BC.[10] The term \"Việt\" (Yue) (Chinese: 越; pinyin: Yuè; Cantonese Yale: Yuht; Wade–Giles: Yüeh4; Vietnamese: Việt) in Early Middle Chinese was first written using the logograph \"戉\" for an axe (a homophone), in oracle bone and bronze inscriptions of the late Shang dynasty (c. 1200 BC), and later as \"越\".[11] At that time it referred to a people or chieftain to the northwest of the Shang.[12] In the early 8th century BC, a tribe on the middle Yangtze were called the Yangyue, a term later used for peoples further south.[12] Between the 7th and 4th centuries BC Yue/Việt referred to the State of Yue in the lower Yangtze basin and its people.[11][12] From the 3rd century BC the term was used for the non-Chinese populations of southern China and northern Vietnam, with particular ethnic groups called Minyue, Ouyue, Luoyue (Vietnamese: Lạc Việt), etc., collectively called the Baiyue (Bách Việt, Chinese: 百越; pinyin: Bǎiyuè; Cantonese Yale: Baak Yuet; Vietnamese: Bách Việt; \"Hundred Yue/Viet\").[11][12][13] The term Baiyue/Bách Việt first appeared in the book Lüshi Chunqiu compiled around 239 BC.[14] By the 17th and 18th centuries AD, educated Vietnamese apparently referred to themselves as nguoi Viet (Viet people) or nguoi nam (southern people).[15]\n",
    "\n",
    "The form Việt Nam (越南) is first recorded in the 16th-century oracular poem Sấm Trạng Trình. The name has also been found on 12 steles carved in the 16th and 17th centuries, including one at Bao Lam Pagoda in Hải Phòng that dates to 1558.[16] In 1802, Nguyễn Phúc Ánh (who later became Emperor Gia Long) established the Nguyễn dynasty. In the second year of his rule, he asked the Jiaqing Emperor of the Qing dynasty to confer on him the title 'King of Nam Việt / Nanyue' (南越 in Chinese character) after seizing power in Annam. The Emperor refused because the name was related to Zhao Tuo's Nanyue, which included the regions of Guangxi and Guangdong in southern China. The Qing Emperor, therefore, decided to call the area \"Việt Nam\" instead,[d][18] meaning “South of the Viet” per Classical Chinese word order but the Vietnamese understood it as “Viet of the South” per Vietnamese word order.[9] Between 1804 and 1813, the name Vietnam was used officially by Emperor Gia Long.[d] It was revived in the early 20th century in Phan Bội Châu's History of the Loss of Vietnam, and later by the Vietnamese Nationalist Party (VNQDĐ).[19] The country was usually called Annam until 1945, when the imperial government in Huế adopted Việt Nam.[20]\n",
    "\n",
    "History\n",
    "Main article: History of Vietnam\n",
    "For a chronological guide, see Timeline of Vietnamese history.\n",
    "Prehistory and early history\n",
    "Photograph of a Đông Sơn bronze drum\n",
    "A Đông Sơn bronze drum, c. 800 BC\n",
    "Archaeological excavations have revealed the existence of humans in what is now Vietnam as early as the Paleolithic age. Stone artefacts excavated in Gia Lai province have been claimed to date to 0.78 Ma,[21] based on associated find of tektites, however this claim has been challenged because tektites are often found in archaeological sites of various ages in Vietnam.[22] Homo erectus fossils dating to around 500,000 BC have been found in caves in Lạng Sơn and Nghệ An provinces in northern Vietnam.[23] The oldest Homo sapiens fossils from mainland Southeast Asia are of Middle Pleistocene provenance, and include isolated tooth fragments from Tham Om and Hang Hum.[24][25][26] Teeth attributed to Homo sapiens from the Late Pleistocene have been found at Dong Can,[27] and from the Early Holocene at Mai Da Dieu,[28][29] Lang Gao[30][31] and Lang Cuom.[32] By about 1,000 BC, the development of wet-rice cultivation in the Ma River and Red River floodplains led to the flourishing of Đông Sơn culture,[33][34] notable for its bronze casting used to make elaborate bronze Đông Sơn drums.[35][36][37] At this point, the early Vietnamese kingdoms of Văn Lang and Âu Lạc appeared, and the culture's influence spread to other parts of Southeast Asia, including Maritime Southeast Asia, throughout the first millennium BC.[36][38]''']"
   ]
  },
  {
   "cell_type": "code",
   "execution_count": 32,
   "metadata": {},
   "outputs": [],
   "source": [
    "sen_tokenizer = AutoTokenizer.from_pretrained('sentence-transformers/bert-large-nli-mean-tokens')"
   ]
  },
  {
   "cell_type": "code",
   "execution_count": 33,
   "metadata": {},
   "outputs": [],
   "source": [
    "encoded_input = sen_tokenizer(sentences, padding=True, return_tensors='pt')"
   ]
  },
  {
   "cell_type": "code",
   "execution_count": 36,
   "metadata": {},
   "outputs": [],
   "source": [
    "out_sentence = sen_tokenizer.batch_decode(encoded_input['input_ids'], skip_special_tokens=True)"
   ]
  },
  {
   "cell_type": "code",
   "execution_count": 37,
   "metadata": {},
   "outputs": [
    {
     "name": "stdout",
     "output_type": "stream",
     "text": [
      "['vietnam [ b ] ( vietnamese : viet nam, [ viət naːm ] ( listen ), commonly abbreviated vn ), officially the socialist republic of vietnam ( srv ), [ c ] is a country in southeast asia. it is located at the eastern edge of mainland southeast asia, with an area of 331, 212 square kilometres ( 127, 882 sq mi ) and population of 99 million, making it the world\\'s fifteenth - most populous country. vietnam share land borders with china to the north, and laos and cambodia to the west. it shares maritime borders with thailand through the gulf of thailand, and the philippines, indonesia, and malaysia through the south china sea. its capital is hanoi and its largest city is ho chi minh city ( commonly referred to by its former name, saigon ). vietnam was inhabited by the paleolithic age, with states established in the first millennium bc on the red river delta in modern - day northern vietnam. the han dynasty annexed northern and central vietnam under chinese rule from 111 bc, until the first dynasty emerged in 939. successive monarchical dynasties absorbed chinese influences through confucianism and buddhism, and expanded southward to the mekong delta, conquering champa. the nguyen — the last imperial dynasty — surrendered to france in 1883. following the august revolution, the nationalist coalition viet minh under the leadership of communist revolutionary ho chi minh proclaimed independence of vietnam in 1945. vietnam went through prolonged warfare in the 20th century. after world war ii, france returned to reclaim colonial power in the first indochina war, from which vietnam emerged victorious in 1954. as a result of the treaties signed between the viet minh and france, vietnam was also separated into two parts. the vietnam war began shortly after, between the communist north, supported by the soviet union and china, and the anti - communist south, supported by the united states. upon the north vietnamese victory in 1975, vietnam reunified as a unitary socialist state under the communist party of vietnam ( cpv ) in 1976. an ineffective planned economy, a trade embargo by the west, and wars with cambodia and china crippled the country further. in 1986, the cpv initiated economic and political reforms similar to the chinese economic reform, transforming the country to a market - oriented economy. the reforms facilitated vietnamese reintegration into the global economy and politics. a developing country with a lower - middle - income economy, vietnam is nonetheless one of the fastest - growing economies of the 21st century, with a gdp predicted to rival developed nations by 2050. vietnam has high levels of corruption and censorship and a poor human rights record ; the country ranks among the lowest in international measurements of civil liberties, freedom of the press, and freedom of religion and ethnic minorities. it is part of international and intergovernmental institutions including the asean, the apec, the cptpp, the non - aligned movement, the oif, and the wto. it has assumed a seat on the united nations security council twice. etymology main article : names of vietnam the name viet nam ( vietnamese pronunciation : [ viət naːm ], chu han : 南 ), literally “ viet south ”, means “ viet of the south ” per vietnamese word order or “ south of the viet ” per classical chinese word order. [ 9 ] a variation of the name, nanyue ( or nam viet, 南 ), was first documented in the 2nd century bc. [ 10 ] the term \" viet \" ( yue ) ( chinese : ; pinyin : yue ; cantonese yale : yuht ; wade – giles : yueh4 ; vietnamese : viet ) in early middle chinese was first written using the logograph \" \" for an axe ( a homophone ), in oracle bone and bronze inscriptions of the late shang dynasty ( c. 1200 bc ), and later as \" \". [ 11 ] at that time it referred to a people or chieftain to the northwest of the shang. [ 12 ] in the early 8th century bc, a tribe on the middle yangtze were called the yangyue, a term later used for peoples further south. [ 12 ] between the 7th and 4th centuries bc yue / viet referred to the state of yue in the lower yangtze basin and its people. [ 11 ] [ 12 ] from the 3rd century bc the term was used for the non - chinese populations of southern china and northern vietnam, with particular ethnic groups called minyue, ouyue, luoyue ( vietnamese : lac viet ), etc., collectively called the baiyue ( bach viet, chinese : ; pinyin : baiyue ; cantonese yale : baak yuet ; vietnamese : bach viet ; \" hundred yue / viet \" ). [ 11 ] [ 12 ] [ 13 ] the term baiyue / bach viet first appeared in the book lushi chunqiu compiled around 239 bc. [ 14 ] by the 17th and 18th centuries ad, educated vietnamese apparently referred to themselves as nguoi viet ( viet people ) or nguoi nam ( southern people ). [ 15 ] the form viet nam ( 南 ) is first recorded in the 16th - century oracular poem sam trang trinh. the name has also been found on 12 steles carved in the 16th and 17th centuries, including one at bao lam pagoda in hai phong that dates to 1558. [ 16 ] in 1802, nguyen phuc anh ( who later became emperor gia long ) established the nguyen dynasty. in the second year of his rule, he asked the jiaqing emperor of the qing dynasty to confer on him the title\\'king of nam viet / nanyue\\'( 南 in chinese character ) after seizing power in annam. the emperor refused because the name was related to zhao tuo\\'s nanyue, which included the regions of guangxi and guangdong in southern china. the qing emperor, therefore, decided to call the area \" viet nam \" instead, [ d ] [ 18 ] meaning “ south of the viet ” per classical chinese word order but the vietnamese understood it as “ viet of the south ” per vietnamese word order. [ 9 ] between 1804 and 1813, the name vietnam was used officially by emperor gia long. [ d ] it was revived in the early 20th century in phan boi chau\\'s history of the loss of vietnam, and later by the vietnamese nationalist party ( vnqdđ ). [ 19 ] the country was usually called annam until 1945, when the imperial government in hue adopted viet nam. [ 20 ] history main article : history of vietnam for a chronological guide, see timeline of vietnamese history. prehistory and early history photograph of a đong son bronze drum a đong son bronze drum, c. 800 bc archaeological excavations have revealed the existence of humans in what is now vietnam as early as the paleolithic age. stone artefacts excavated in gia lai province have been claimed to date to 0. 78 ma, [ 21 ] based on associated find of tektites, however this claim has been challenged because tektites are often found in archaeological sites of various ages in vietnam. [ 22 ] homo erectus fossils dating to around 500, 000 bc have been found in caves in lang son and nghe an provinces in northern vietnam. [ 23 ] the oldest homo sapiens fossils from mainland southeast asia are of middle pleistocene provenance, and include isolated tooth fragments from tham om and hang hum. [ 24 ] [ 25 ] [ 26 ] teeth attributed to homo sapiens from the late pleistocene have been found at dong can, [ 27 ] and from the early holocene at mai da dieu, [ 28 ] [ 29 ] lang gao [ 30 ] [ 31 ] and lang cuom. [ 32 ] by about 1, 000 bc, the development of wet - rice cultivation in the ma river and red river floodplains led to the flourishing of đong son culture, [ 33 ] [ 34 ] notable for its bronze casting used to make elaborate bronze đong son drums. [ 35 ] [ 36 ] [ 37 ] at this point, the early vietnamese kingdoms of van lang and au lac appeared, and the culture\\'s influence spread to other parts of southeast asia, including maritime southeast asia, throughout the first millennium bc. [ 36 ] [ 38 ]']\n"
     ]
    }
   ],
   "source": [
    "print(out_sentence)"
   ]
  },
  {
   "cell_type": "code",
   "execution_count": 45,
   "metadata": {},
   "outputs": [
    {
     "name": "stderr",
     "output_type": "stream",
     "text": [
      "Asking to truncate to max_length but no maximum length is provided and the model has no predefined maximum length. Default to no truncation.\n"
     ]
    },
    {
     "name": "stdout",
     "output_type": "stream",
     "text": [
      "Sentence embeddings:\n",
      "tensor([[-0.6649, -0.0894,  0.7445,  ...,  0.3436, -0.2317,  0.4688],\n",
      "        [-0.1336, -0.5473,  0.2303,  ..., -0.5988, -0.6033,  0.2249]])\n"
     ]
    }
   ],
   "source": [
    "from transformers import AutoTokenizer, AutoModel\n",
    "import torch\n",
    "\n",
    "\n",
    "#Mean Pooling - Take attention mask into account for correct averaging\n",
    "def mean_pooling(model_output, attention_mask):\n",
    "    token_embeddings = model_output[0] #First element of model_output contains all token embeddings\n",
    "    input_mask_expanded = attention_mask.unsqueeze(-1).expand(token_embeddings.size()).float()\n",
    "    return torch.sum(token_embeddings * input_mask_expanded, 1) / torch.clamp(input_mask_expanded.sum(1), min=1e-9)\n",
    "\n",
    "# Load model from HuggingFace Hub\n",
    "tokenizer = AutoTokenizer.from_pretrained('sentence-transformers/bert-large-nli-mean-tokens')\n",
    "model = AutoModel.from_pretrained('sentence-transformers/bert-large-nli-mean-tokens')\n",
    "\n",
    "sentences = ['This is an example sentence', 'Each sentence is converted']\n",
    "# Tokenize sentences\n",
    "encoded_input = tokenizer(sentences, padding=True, truncation=True, return_tensors='pt')\n",
    "\n",
    "# Compute token embeddings\n",
    "with torch.no_grad():\n",
    "    model_output = model(**encoded_input)\n",
    "\n",
    "# Perform pooling. In this case, max pooling.\n",
    "sentence_embeddings = mean_pooling(model_output, encoded_input['attention_mask'])\n",
    "\n",
    "print(\"Sentence embeddings:\")\n",
    "print(sentence_embeddings)"
   ]
  },
  {
   "cell_type": "code",
   "execution_count": 46,
   "metadata": {},
   "outputs": [
    {
     "data": {
      "text/plain": [
       "torch.Size([2, 1024])"
      ]
     },
     "execution_count": 46,
     "metadata": {},
     "output_type": "execute_result"
    }
   ],
   "source": [
    "sentence_embeddings.shape"
   ]
  },
  {
   "cell_type": "code",
   "execution_count": 48,
   "metadata": {},
   "outputs": [
    {
     "data": {
      "text/plain": [
       "{'input_ids': tensor([[ 101, 2023, 2003, 2019, 2742, 6251,  102],\n",
       "        [ 101, 2169, 6251, 2003, 4991,  102,    0]]), 'token_type_ids': tensor([[0, 0, 0, 0, 0, 0, 0],\n",
       "        [0, 0, 0, 0, 0, 0, 0]]), 'attention_mask': tensor([[1, 1, 1, 1, 1, 1, 1],\n",
       "        [1, 1, 1, 1, 1, 1, 0]])}"
      ]
     },
     "execution_count": 48,
     "metadata": {},
     "output_type": "execute_result"
    }
   ],
   "source": [
    "encoded_input"
   ]
  }
 ],
 "metadata": {
  "kernelspec": {
   "display_name": "recom",
   "language": "python",
   "name": "python3"
  },
  "language_info": {
   "codemirror_mode": {
    "name": "ipython",
    "version": 3
   },
   "file_extension": ".py",
   "mimetype": "text/x-python",
   "name": "python",
   "nbconvert_exporter": "python",
   "pygments_lexer": "ipython3",
   "version": "3.10.11"
  },
  "orig_nbformat": 4
 },
 "nbformat": 4,
 "nbformat_minor": 2
}
